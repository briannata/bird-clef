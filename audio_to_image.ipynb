{
 "metadata": {
  "language_info": {
   "codemirror_mode": {
    "name": "ipython",
    "version": 3
   },
   "file_extension": ".py",
   "mimetype": "text/x-python",
   "name": "python",
   "nbconvert_exporter": "python",
   "pygments_lexer": "ipython3",
   "version": "3.9.4"
  },
  "orig_nbformat": 2,
  "kernelspec": {
   "name": "python394jvsc74a57bd063e7f719132db4c6ed1d892ecf233ac68d1a0110b77f267780c4f211d593dcfa",
   "display_name": "Python 3.9.4 64-bit"
  },
  "metadata": {
   "interpreter": {
    "hash": "63e7f719132db4c6ed1d892ecf233ac68d1a0110b77f267780c4f211d593dcfa"
   }
  }
 },
 "nbformat": 4,
 "nbformat_minor": 2,
 "cells": [
  {
   "cell_type": "code",
   "execution_count": 1,
   "metadata": {},
   "outputs": [],
   "source": [
    "#https://www.kaggle.com/timolee/audio-data-conversion-to-images-eda/notebook\n",
    "\n",
    "import matplotlib.pyplot as plt\n",
    "from matplotlib.backend_bases import RendererBase\n",
    "from scipy import signal\n",
    "from scipy.io import wavfile\n",
    "import os\n",
    "import numpy as np\n",
    "from PIL import Image\n",
    "from scipy.fftpack import fft\n",
    "import librosa\n",
    "from os import listdir\n",
    "from os.path import isfile, join"
   ]
  },
  {
   "cell_type": "code",
   "execution_count": 2,
   "metadata": {},
   "outputs": [],
   "source": [
    "def log_specgram(audio, sample_rate, window_size=20,\n",
    "                 step_size=10, eps=1e-10):\n",
    "    nperseg = int(round(window_size * sample_rate / 1e3))\n",
    "    noverlap = int(round(step_size * sample_rate / 1e3))\n",
    "    freqs, _, spec = signal.spectrogram(audio,\n",
    "                                    fs=sample_rate,\n",
    "                                    window='hann',\n",
    "                                    nperseg=nperseg,\n",
    "                                    noverlap=noverlap,\n",
    "                                    detrend=False)\n",
    "    return freqs, np.log(spec.T.astype(np.float32) + eps)"
   ]
  },
  {
   "cell_type": "code",
   "execution_count": 3,
   "metadata": {},
   "outputs": [],
   "source": [
    "import os\n",
    "\n",
    "with open('species.txt') as x:\n",
    "    for line in x:\n",
    "        line = line.strip()\n",
    "\n",
    "        mypath = os.path.join('.', 'train_short_audio', line)\n",
    "        targetdir = os.path.join('.', 'train_images', line)\n",
    "        onlyfiles = [f for f in listdir(mypath) if isfile(join(mypath, f))]\n",
    "\n",
    "        for file in onlyfiles:\n",
    "\n",
    "            filename = file\n",
    "            filepath = join(mypath, file)\n",
    "\n",
    "            test_sound, samplerate = librosa.load(filepath, sr=None)\n",
    "            _, spectrogram = log_specgram(test_sound, samplerate)\n",
    "\n",
    "            output_file = filename.replace('.ogg', '.png')\n",
    "            output_file = targetdir + \"/\" + output_file\n",
    "            plt.subplot(1, 1, 1)\n",
    "            plt.imsave(output_file, spectrogram)\n",
    "            plt.close()"
   ]
  }
 ]
}