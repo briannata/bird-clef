{
 "metadata": {
  "language_info": {
   "codemirror_mode": {
    "name": "ipython",
    "version": 3
   },
   "file_extension": ".py",
   "mimetype": "text/x-python",
   "name": "python",
   "nbconvert_exporter": "python",
   "pygments_lexer": "ipython3",
   "version": "3.9.4"
  },
  "orig_nbformat": 2,
  "kernelspec": {
   "name": "python394jvsc74a57bd063e7f719132db4c6ed1d892ecf233ac68d1a0110b77f267780c4f211d593dcfa",
   "display_name": "Python 3.9.4 64-bit"
  },
  "metadata": {
   "interpreter": {
    "hash": "63e7f719132db4c6ed1d892ecf233ac68d1a0110b77f267780c4f211d593dcfa"
   }
  }
 },
 "nbformat": 4,
 "nbformat_minor": 2,
 "cells": [
  {
   "cell_type": "code",
   "execution_count": null,
   "metadata": {},
   "outputs": [],
   "source": [
    "import os\n",
    "from PIL import Image\n",
    "from os import listdir\n",
    "from os.path import isfile, join\n",
    "\n",
    "with open('filenames.txt') as x:\n",
    "    for line in x:\n",
    "        line = line.strip()\n",
    "\n",
    "        mypath = os.path.join('.', 'train_images', line)\n",
    "        targetdir = os.path.join('.', 'train_resized_images', line)\n",
    "        onlyfiles = [f for f in listdir(mypath) if isfile(join(mypath, f))]\n",
    "\n",
    "        for file in onlyfiles:\n",
    "\n",
    "            filename = file\n",
    "            filepath = join(mypath, file)\n",
    "            targetpath = join(targetdir, file)\n",
    "\n",
    "            image = Image.open(filepath)\n",
    "            new_image = image.resize((256, 256))\n",
    "            new_image.save(targetpath)"
   ]
  }
 ]
}